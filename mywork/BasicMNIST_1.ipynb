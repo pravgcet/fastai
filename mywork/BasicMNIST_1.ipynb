{
 "cells": [
  {
   "cell_type": "code",
   "execution_count": 65,
   "id": "e68885b6",
   "metadata": {},
   "outputs": [],
   "source": [
    "#!pip install -Uqq fastbook\n",
    "import fastbook\n",
    "fastbook.setup_book()\n",
    "from fastai.vision.all import *\n",
    "from fastbook import *\n",
    "from graphviz import Digraph\n",
    "\n",
    "matplotlib.rc('image', cmap='Greys')"
   ]
  },
  {
   "cell_type": "code",
   "execution_count": 66,
   "id": "c7e69132",
   "metadata": {},
   "outputs": [],
   "source": [
    "class BasicOptim:\n",
    "    def __init__(self,param,lr):\n",
    "        self.param,self.lr = list(param),lr\n",
    "    \n",
    "    def step(self, *args, **kwargs):\n",
    "        for p in self.param:\n",
    "            p.data -= p.grad.data*self.lr\n",
    "    \n",
    "    def zero_grad(self, *args, **kwargs):\n",
    "        for p in self.param:\n",
    "            p.grad = None\n",
    "        "
   ]
  },
  {
   "cell_type": "code",
   "execution_count": 68,
   "id": "dac34889",
   "metadata": {},
   "outputs": [],
   "source": [
    "linear_model = nn.Linear(28*28,1)\n",
    "ls=0.1\n",
    "opt = BasicOptim(linear_model.parameters(),ls)\n"
   ]
  },
  {
   "cell_type": "code",
   "execution_count": 97,
   "id": "0b43a37b",
   "metadata": {},
   "outputs": [],
   "source": [
    "def init_params(size, std=1.0): return (torch.randn(size)*std).requires_grad_()\n",
    "\n",
    "def mnist_loss(pred, target): \n",
    "    pred = pred.sigmoid()\n",
    "    return torch.where(target == 1, 1-pred, pred).mean()\n",
    "\n",
    "def train_epoch(model):\n",
    "    for xb, yb in train_dl:\n",
    "        calc_grad(xb,yb,model)\n",
    "        opt.step()\n",
    "        opt.zero_grad()\n",
    "    \n",
    "def train_model(model, epochs):\n",
    "    for i in range(epochs):\n",
    "        train_epoch(model)\n",
    "        print(validate_epoch(model),end=' ')\n",
    "\n",
    "def calc_grad(xb, yb, model):\n",
    "    preds = model(xb)\n",
    "    loss = mnist_loss(preds,yb)\n",
    "    loss.backward()\n",
    "\n",
    "def validate_epoch(model):\n",
    "    accs = [batch_accuracy(model(xb),yb) for xb,yb in valid_dl]\n",
    "    return round(torch.stack(accs).mean().item(),4)\n",
    "\n",
    "def batch_accuracy(xb, yb):\n",
    "    preds = xb.sigmoid()\n",
    "    correct = (preds > 0.5) == yb\n",
    "    return correct.float().mean()\n"
   ]
  },
  {
   "cell_type": "code",
   "execution_count": 98,
   "id": "5418fcb9",
   "metadata": {},
   "outputs": [
    {
     "data": {
      "text/plain": [
       "(#4) [Path('valid'),Path('labels.csv'),Path('.DS_Store'),Path('train')]"
      ]
     },
     "execution_count": 98,
     "metadata": {},
     "output_type": "execute_result"
    }
   ],
   "source": [
    "path = untar_data(URLs.MNIST_SAMPLE)\n",
    "Path.BASE_PATH = path\n",
    "path.ls()"
   ]
  },
  {
   "cell_type": "code",
   "execution_count": 99,
   "id": "bffb60af",
   "metadata": {},
   "outputs": [],
   "source": [
    "#Train\n",
    "threes = (path/'train'/'3').ls().sorted()\n",
    "sevens = (path/'train'/'7').ls().sorted()\n",
    "\n",
    "three_tensor = [tensor(Image.open(o)) for o in threes]\n",
    "seven_tensor = [tensor(Image.open(o)) for o in sevens]\n",
    "stack_threes = torch.stack(three_tensor).float()/255\n",
    "stack_seven = torch.stack(seven_tensor).float()/255\n",
    "\n",
    "train_x = torch.cat([stack_threes, stack_seven]).view(-1,28*28)\n",
    "train_y = tensor([1]*len(threes)+[0]*len(sevens)).unsqueeze(1)\n",
    "\n",
    "\n",
    "#Valid\n",
    "threes_v = (path/'valid'/'3').ls().sorted()\n",
    "sevens_v = (path/'valid'/'7').ls().sorted()\n",
    "\n",
    "threev_tensor = [tensor(Image.open(o)) for o in threes_v]\n",
    "sevenv_tensor = [tensor(Image.open(o)) for o in sevens_v]\n",
    "stackv_threes = torch.stack(threev_tensor).float()/255\n",
    "stackv_seven = torch.stack(sevenv_tensor).float()/255\n",
    "\n",
    "valid_x = torch.cat([stackv_threes, stackv_seven]).view(-1,28*28)\n",
    "valid_y = tensor([1]*len(threes_v)+[0]*len(sevens_v)).unsqueeze(1)\n",
    "train_dset = list(zip(train_x,train_y))\n",
    "valid_dset = list(zip(valid_x,valid_y))"
   ]
  },
  {
   "cell_type": "code",
   "execution_count": 100,
   "id": "ab8e4e4d",
   "metadata": {},
   "outputs": [],
   "source": [
    "train_dl = DataLoader(train_dset,batch_size=200)\n",
    "valid_dl = DataLoader(valid_dset,batch_size=200)"
   ]
  },
  {
   "cell_type": "code",
   "execution_count": 101,
   "id": "d6a72b5e",
   "metadata": {},
   "outputs": [],
   "source": [
    "weights = init_params(28*28,1)\n",
    "bias = init_params(1)"
   ]
  },
  {
   "cell_type": "code",
   "execution_count": 102,
   "id": "2284abb1",
   "metadata": {},
   "outputs": [
    {
     "name": "stdout",
     "output_type": "stream",
     "text": [
      "0.9532 0.9641 0.9659 0.9668 0.9691 0.97 0.9714 0.9723 0.9732 0.9727 0.9736 0.9736 0.9741 0.9736 0.9736 0.9736 0.9736 0.9741 0.975 0.9759 "
     ]
    }
   ],
   "source": [
    "train_model(linear_model,20)"
   ]
  }
 ],
 "metadata": {
  "kernelspec": {
   "display_name": "Python 3",
   "language": "python",
   "name": "python3"
  },
  "language_info": {
   "codemirror_mode": {
    "name": "ipython",
    "version": 3
   },
   "file_extension": ".py",
   "mimetype": "text/x-python",
   "name": "python",
   "nbconvert_exporter": "python",
   "pygments_lexer": "ipython3",
   "version": "3.8.8"
  }
 },
 "nbformat": 4,
 "nbformat_minor": 5
}
